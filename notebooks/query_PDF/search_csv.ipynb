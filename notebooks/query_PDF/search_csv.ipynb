{
 "cells": [
  {
   "cell_type": "code",
   "execution_count": 1,
   "metadata": {},
   "outputs": [],
   "source": [
    "from PIL import Image \n",
    "import PIL \n",
    "from pdf2image import convert_from_path\n",
    "from ocrmac import ocrmac\n",
    "import os\n",
    "import threading\n",
    "import PyPDF2\n",
    "import pandas as pd\n",
    "from unidecode import unidecode\n",
    "import re\n",
    "import ast\n",
    "from neo4j import GraphDatabase\n",
    "from credentials import *"
   ]
  },
  {
   "cell_type": "code",
   "execution_count": 2,
   "metadata": {},
   "outputs": [],
   "source": [
    "def search(seekable_name):\n",
    "    extract_files = os.listdir(\"extracts/\")\n",
    "    try:\n",
    "        extract_files.remove(\".DS_Store\")\n",
    "    except:\n",
    "        pass\n",
    "    extract_files.sort()\n",
    "\n",
    "    try:\n",
    "        with open(f\"result/{seekable_name}.html\", \"w\") as f:\n",
    "            f.write(\"\")\n",
    "    except:\n",
    "        pass\n",
    "    \n",
    "    uni_seekable_name = unidecode(seekable_name).lower()\n",
    "\n",
    "    print(uni_seekable_name)\n",
    "\n",
    "    if \",\" in uni_seekable_name:\n",
    "        nom = uni_seekable_name.split(\",\")[0].strip()\n",
    "        prenoms = uni_seekable_name.split(\",\")[1].strip()\n",
    "        prenoms = re.sub(r\"[ \\-\\(\\)\\/\\.]\", \" \", prenoms)\n",
    "        prenoms = re.sub(\" +\", \" \", prenoms)\n",
    "        prenoms = prenoms.strip().split(\" \")\n",
    "        prenoms = [prenom for prenom in prenoms if len(prenom) > 2] # suppression si juste initiales\n",
    "    # else:\n",
    "    #     nom = uni_seekable_name.strip()\n",
    "    #     prenom = []\n",
    "\n",
    "    with open(f\"results2/{seekable_name}.html\", \"a\") as f:\n",
    "        for extract_file in extract_files:\n",
    "            year = extract_file[0:4]\n",
    "            title_year = f\"<h1>{year}</h1>\"\n",
    "            f.write(f\"\\n{title_year}\\n\\n\")\n",
    "            df = pd.read_csv(f\"extracts/{extract_file}\")\n",
    "\n",
    "            for i in range(len(df)):\n",
    "                lignes = ast.literal_eval(df[\"text\"][i])\n",
    "                num_page = df[\"page\"][i]\n",
    "                page_link = f\"<a href='file:///Users/antoinelavacquery/Annuaires/{year}.pdf#page={num_page}'>page {num_page}</a>\"\n",
    "\n",
    "                for ligne in lignes:\n",
    "                    lower = ligne.lower()\n",
    "                    uni = unidecode(lower)\n",
    "\n",
    "                    if \",\" in uni_seekable_name and prenoms:\n",
    "                        found = False\n",
    "                        for prenom in prenoms:\n",
    "                            if prenom in uni and nom in uni:\n",
    "                                found = True\n",
    "                        if found:\n",
    "                            f.write(f\"{ligne} -> {page_link}<br>\\n\")\n",
    "                    # else:\n",
    "                    #     if nom in uni:\n",
    "                    #         f.write(f\"{ligne} -> {page_link}<br>\\n\")"
   ]
  },
  {
   "cell_type": "code",
   "execution_count": 3,
   "metadata": {},
   "outputs": [],
   "source": [
    "def get_neo4j_results_of(query):\n",
    "    URI = AURA_CONNECTION_URI\n",
    "    USER = AURA_USERNAME\n",
    "    PASS = AURA_PASSWORD\n",
    "\n",
    "    # Driver instantiation\n",
    "    driver = GraphDatabase.driver(URI, auth=(USER, PASS))\n",
    "\n",
    "    # Create a driver session\n",
    "    with driver.session() as session:\n",
    "        # Use .data() to access the results array\n",
    "        results = session.run(query)\n",
    "        results_data = results.data()\n",
    "        return(results_data)\n",
    "    driver.close()"
   ]
  },
  {
   "cell_type": "code",
   "execution_count": 4,
   "metadata": {},
   "outputs": [
    {
     "name": "stdout",
     "output_type": "stream",
     "text": [
      "bouchet, benoit\n"
     ]
    }
   ],
   "source": [
    "query = \"\"\"\n",
    "MATCH (h:HOMME)-[e:EXERCE]->(a:ACTIVITÉ {nom:'Agent de change'})\n",
    "WHERE (e.date_début.year >= 1815 AND e.date_début.year <= 1852)\n",
    "OR (e.date_fin.year >= 1815 AND e.date_fin.year <= 1852)\n",
    "RETURN h\n",
    "\"\"\"\n",
    "\n",
    "results = get_neo4j_results_of(query)\n",
    "all = [result[\"h\"][\"nom\"] for result in results]\n",
    "\n",
    "for name in all:\n",
    "    search(name)\n",
    "\n",
    "# search(\"Bouchet, Benoît\")"
   ]
  }
 ],
 "metadata": {
  "kernelspec": {
   "display_name": "Python 3",
   "language": "python",
   "name": "python3"
  },
  "language_info": {
   "codemirror_mode": {
    "name": "ipython",
    "version": 3
   },
   "file_extension": ".py",
   "mimetype": "text/x-python",
   "name": "python",
   "nbconvert_exporter": "python",
   "pygments_lexer": "ipython3",
   "version": "3.11.4"
  },
  "orig_nbformat": 4,
  "vscode": {
   "interpreter": {
    "hash": "bd385fe162c5ca0c84973b7dd5c518456272446b2b64e67c2a69f949ca7a1754"
   }
  }
 },
 "nbformat": 4,
 "nbformat_minor": 2
}
