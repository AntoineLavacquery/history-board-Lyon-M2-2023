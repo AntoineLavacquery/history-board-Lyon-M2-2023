{
 "cells": [
  {
   "cell_type": "code",
   "execution_count": 7,
   "metadata": {},
   "outputs": [],
   "source": [
    "from PIL import Image \n",
    "import PIL \n",
    "from pdf2image import convert_from_path\n",
    "from ocrmac import ocrmac\n",
    "import os\n",
    "import threading\n",
    "import pandas as pd"
   ]
  },
  {
   "cell_type": "code",
   "execution_count": null,
   "metadata": {},
   "outputs": [],
   "source": [
    "def file_to_csv(file_path, file_name):\n",
    "    result_list = []\n",
    "    # Liste des images (image = page)\n",
    "    images = convert_from_path(f\"{file_path}{file_name}\", thread_count=1, dpi=290)\n",
    "    # Pour chaque image\n",
    "    for i in range(len(images)):\n",
    "        texte = \"\"\n",
    "        ocr_page = ocrmac.OCR(images[i]).recognize()\n",
    "\n",
    "        for ligne in ocr_page:\n",
    "            texte += ligne[0] + \"\\n\"\n",
    "        result_list.append([i+1, texte])\n",
    "    \n",
    "    # il faut sauvergarder la result_list ailleurs sauver en CSV\n",
    "    df = pd.DataFrame(result_list, columns = ['page', 'ocr_text'])\n",
    "    df.to_csv(f\"ocr/{file_name[0:4]}_ocerised.csv\", index=False)"
   ]
  },
  {
   "cell_type": "code",
   "execution_count": 2,
   "metadata": {},
   "outputs": [],
   "source": [
    "# Définition de la liste de fichiers\n",
    "dir_of_files = \"data/\"\n",
    "file_list = os.listdir(dir_of_files)\n",
    "file_list.remove(\".DS_Store\")\n",
    "file_list.sort()\n",
    "# file_path_list = [dir_of_files + file for file in file_list]\n",
    "\n",
    "# Pour chaque PDF\n",
    "for file in file_list:\n",
    "    file_to_csv(dir_of_files, file)\n",
    "\n",
    "# 6m 47.2s pour 1815 complet"
   ]
  },
  {
   "cell_type": "code",
   "execution_count": 24,
   "metadata": {},
   "outputs": [
    {
     "name": "stdout",
     "output_type": "stream",
     "text": [
      "1832\n",
      "1835\n",
      "1820\n",
      "1827\n",
      "1844\n",
      "1843\n",
      "1826\n",
      "1821\n",
      "1834\n",
      "1833\n",
      "1850\n",
      "1842\n",
      "1817\n",
      "1845\n",
      "1848\n",
      "1839\n",
      "1849\n",
      "1838\n",
      "1819\n",
      "1828\n",
      "1818\n",
      "1829\n",
      "1823\n",
      "1824\n",
      "1831\n",
      "1836\n",
      "1852\n",
      "1815\n",
      "1840\n",
      "1837\n",
      "1830\n",
      "1825\n",
      "1841\n",
      "1846\n",
      "1853\n"
     ]
    }
   ],
   "source": [
    "seekable_name = \"Coste\"\n",
    "\n",
    "ocr_files = os.listdir(\"ocr/\")\n",
    "ocr_files.sort()\n",
    "with open(f\"{seekable_name}.txt\", \"w\") as fichier:\n",
    "    fichier.write(\"\")\n",
    "with open(f\"{seekable_name}.txt\", \"a\") as f:\n",
    "    for ocr_file in ocr_files:\n",
    "        year = ocr_file[0:4]\n",
    "        print(year)\n",
    "        f.write(f\"\\n# {year}\\n\\n\")\n",
    "        df = pd.read_csv(f\"ocr/{ocr_file}\")\n",
    "        \n",
    "        for i in range(len(df)):\n",
    "            texte_page = str(df[\"ocr_text\"][i])\n",
    "            lignes = texte_page.split(\"\\n\")\n",
    "            num_page = df[\"page\"][i]\n",
    "\n",
    "            for ligne in lignes:\n",
    "                if seekable_name in ligne:\n",
    "                    f.write(f\"{ligne} -> page {num_page}\\n\")"
   ]
  },
  {
   "cell_type": "code",
   "execution_count": null,
   "metadata": {},
   "outputs": [],
   "source": [
    "\n",
    "    for i in range(len(images)):\n",
    "        results = \"\"\n",
    "        ocr_text = ocrmac.OCR(images[i]).recognize()\n",
    "\n",
    "        # !! Ligne est un tuple\n",
    "        for ligne in ocr_text:\n",
    "            if seekable_name in ligne[0]:\n",
    "                print(ligne[0] + \" -----> page \" + str(page))\n",
    "                results += ligne[0]\n",
    "\n"
   ]
  },
  {
   "cell_type": "code",
   "execution_count": null,
   "metadata": {},
   "outputs": [],
   "source": [
    "\n",
    "# images0 = convert_from_path(f\"extraits copie/{file_list[0]}\", thread_count=4, dpi=290)\n",
    "\n",
    "\n"
   ]
  },
  {
   "cell_type": "code",
   "execution_count": null,
   "metadata": {},
   "outputs": [],
   "source": [
    "for i in range(len(images)):\n",
    "    page = i+1\n",
    "    annotations = ocrmac.OCR(images[i]).recognize()\n",
    "    \n",
    "    for ligne in annotations:\n",
    "        if seekable_name in ligne[0]:\n",
    "            print(ligne[0] + \" -----> page \" + str(page))"
   ]
  }
 ],
 "metadata": {
  "kernelspec": {
   "display_name": "Python 3",
   "language": "python",
   "name": "python3"
  },
  "language_info": {
   "codemirror_mode": {
    "name": "ipython",
    "version": 3
   },
   "file_extension": ".py",
   "mimetype": "text/x-python",
   "name": "python",
   "nbconvert_exporter": "python",
   "pygments_lexer": "ipython3",
   "version": "3.11.4"
  },
  "orig_nbformat": 4,
  "vscode": {
   "interpreter": {
    "hash": "bd385fe162c5ca0c84973b7dd5c518456272446b2b64e67c2a69f949ca7a1754"
   }
  }
 },
 "nbformat": 4,
 "nbformat_minor": 2
}
